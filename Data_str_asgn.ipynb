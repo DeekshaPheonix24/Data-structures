{
  "nbformat": 4,
  "nbformat_minor": 0,
  "metadata": {
    "colab": {
      "provenance": []
    },
    "kernelspec": {
      "name": "python3",
      "display_name": "Python 3"
    },
    "language_info": {
      "name": "python"
    }
  },
  "cells": [
    {
      "cell_type": "markdown",
      "source": [
        "#1.What are data structures, and why are they important?\n",
        "  --> Data structures are specialized formats for organizing, storing, and managing data efficiently, such as arrays, linked lists, stacks, and trees. They are essential because they enable efficient data manipulation, retrieval, and modification, optimizing performance for various algorithms. By choosing the right data structure, software can achieve better time and space complexity, improving overall system efficiency.\n",
        "\n",
        "#2. Explain the difference between mutable and immutable data types with examples?\n",
        "  --> Mutable data types can be changed after they are created, such as lists and dictionaries in Python. Immutable data types, on the other hand, cannot be modified once created, like strings and tuples. For example, you can modify a list but cannot change a tuple's content after it's created.\n",
        "\n",
        "#3.What are the main differences between lists and tuples in Python?\n",
        "  --> The main differences between lists and tuples in Python are:\n",
        "\n",
        "  1. **Mutability**: Lists are **mutable**, meaning their elements can be changed, added, or removed. Tuples are **immutable**, meaning once they are created, their elements cannot be modified.\n",
        "  2. **Syntax**: Lists are defined using square brackets `[]`, while tuples are defined using parentheses `()`.\n",
        "  3. **Performance**: Tuples are generally faster than lists for iteration and accessing elements because they are immutable.\n",
        "  4. **Use Case**: Lists are used when the data may need to be modified, while tuples are used when the data should remain constant or when you need to ensure data integrity.\n",
        "\n",
        "#4. Describe how dictionaries store data?\n",
        "  --> Dictionaries in Python store data as key-value pairs, where each key is unique and maps to a corresponding value. Internally, dictionaries use a hash table to store these pairs, which allows for efficient access, insertion, and deletion of elements. The keys are hashed, and the hash values are used to determine where the key-value pair is stored in memory, making lookups average O(1) time complexity. The syntax for defining a dictionary is `{key1: value1, key2: value2}`, and the values can be of any data type.\n",
        "\n",
        "\n",
        "#5. Why might you use a set instead of a list in Python?\n",
        "  --> You might use a set instead of a list in Python for the following reasons:\n",
        "\n",
        "  1. **Uniqueness**: Sets automatically eliminate duplicate elements, so they are ideal when you need to ensure that all elements are unique.\n",
        "  2. **Faster Membership Testing**: Sets provide faster membership testing (average O(1) time complexity) compared to lists (O(n) time complexity), making them more efficient for checking if an element is present.\n",
        "  3. **Mathematical Operations**: Sets support efficient operations like union, intersection, difference, and symmetric difference, which are useful for set theory-based tasks.\n",
        "   \n",
        "  However, sets do not maintain order, so if order matters, a list might be more appropriate.\n",
        "\n",
        "#6. What is a string in Python, and how is it different from a list?\n",
        "  -->A **string** in Python is a sequence of characters enclosed in quotes (single, double, or triple quotes). It is an **immutable** data type, meaning once created, its contents cannot be changed.\n",
        "\n",
        "  The main differences between a string and a list are:\n",
        "  1. **Mutability**: Strings are **immutable**, while lists are **mutable**, meaning you can modify a list after creation, but you cannot modify a string in place.\n",
        "  2. **Element Types**: Strings store **characters** (individual elements), whereas lists can store any type of object, including numbers, strings, and other lists.\n",
        "  3. **Operations**: Strings support operations like concatenation and slicing, but lists have additional methods like appending, inserting, or removing elements.\n",
        "\n",
        "#7.  How do tuples ensure data integrity in Python?\n",
        "  --> Tuples ensure data integrity in Python by being **immutable**, meaning once a tuple is created, its contents cannot be altered—no elements can be added, removed, or modified. This immutability ensures that the data stored in a tuple remains constant throughout the program, preventing accidental or intentional changes. This is useful in scenarios where data integrity is critical, such as using tuples as keys in dictionaries or for storing fixed configuration values, ensuring that the data remains unchanged and consistent.\n",
        "#8. What is a hash table, and how does it relate to dictionaries in Python?\n",
        "  -->A **hash table** is a data structure that stores data in an array-like format, where each element is indexed using a **hash function** that maps keys to specific indices. This allows for efficient data retrieval by directly accessing the index where a value is stored based on its key.\n",
        "\n",
        "  In Python, **dictionaries** are implemented using hash tables. When you insert a key-value pair into a dictionary, Python computes the hash of the key and uses it to determine where to store the value in memory. This allows for **average O(1)** time complexity for operations like lookups, insertions, and deletions, making dictionaries highly efficient for managing and accessing data.\n",
        "#9.Can lists contain different data types in Python?\n",
        "  -->Yes, lists in Python can contain elements of different data types. A single list can store integers, strings, floats, objects, and even other lists or data structures.\n",
        "\n",
        "#10.Explain why strings are immutable in Python?\n",
        "  -->Strings are immutable in Python to ensure data integrity and optimize performance. Immutability allows Python to safely share string objects across different parts of a program without the risk of unintended modifications. It also enables strings to be used as dictionary keys and in sets, as their hash values remain constant.\n",
        "\n",
        "#11.What advantages do dictionaries offer over lists for certain tasks?\n",
        "  --> Dictionaries offer several advantages over lists for certain tasks:\n",
        "\n",
        "  1. **Efficient Lookups**: Dictionaries provide **O(1)** average-time complexity for lookups, insertions, and deletions, making them much faster than lists, which require **O(n)** time for searching.\n",
        "  \n",
        "  2. **Key-Value Mapping**: Dictionaries store data as key-value pairs, making them ideal for tasks where you need to map unique identifiers (keys) to corresponding values, such as when managing configurations or storing object properties.\n",
        "\n",
        "  3. **Avoiding Duplicates**: Dictionaries automatically enforce unique keys, helping avoid duplicate entries, whereas lists can contain duplicate values.\n",
        "\n",
        "  4. **Flexibility**: With dictionaries, you can quickly associate values with non-sequential, non-integer keys (like strings), which is more intuitive for tasks requiring labeled data, while lists are indexed numerically.\n",
        "#12. Describe a scenario where using a tuple would be preferable over a list?\n",
        "  -->A tuple would be preferable over a list in a scenario where you need to store a collection of **constant values** that should not be modified. For example, when defining a **set of coordinates** (like a geographic location) that should remain fixed, a tuple ensures data integrity by preventing accidental changes. Since tuples are immutable, they are also more memory-efficient and faster for iteration than lists, making them ideal for fixed, read-only collections of data.\n",
        "\n",
        "#13. How do sets handle duplicate values in Python?\n",
        "  -->In Python, sets automatically handle duplicate values by ignoring any attempt to add them. Since sets only store unique elements, if you try to add a duplicate, it will have no effect, and the set remains unchanged.\n",
        "\n",
        "#14. How does the “in” keyword work differently for lists and dictionaries?\n",
        "  --->In Python, the `in` keyword checks for membership differently in lists and dictionaries. For **lists**, it checks if the value is an element in the list. For **dictionaries**, it checks if the key exists in the dictionary, not the value. So, for lists, `in` searches through the elements, while for dictionaries, it searches through the keys.\n",
        "\n",
        "#15.How does the “in” keyword work differently for lists and dictionaries?\n",
        "  In Python, the `in` keyword checks for membership differently in lists and dictionaries. For **lists**, it checks if the value is an element in the list. For **dictionaries**, it checks if the key exists in the dictionary, not the value. So, for lists, `in` searches through the elements, while for dictionaries, it searches through the keys.\n",
        "\n",
        "#16.What is a nested dictionary, and give an example of its use case ?\n",
        "  -->A nested dictionary is a dictionary where the values themselves are dictionaries. This allows you to create complex data structures by organizing data in a hierarchical manner.\n"
      ],
      "metadata": {
        "id": "Z47fPGqgYoAl"
      }
    },
    {
      "cell_type": "code",
      "source": [
        "student = {\n",
        "    \"name\": \"John Doe\",\n",
        "    \"age\": 21,\n",
        "    \"courses\": {\n",
        "        \"math\": {\"grade\": \"A\", \"credits\": 3},\n",
        "        \"history\": {\"grade\": \"B\", \"credits\": 4},\n",
        "        \"science\": {\"grade\": \"A-\", \"credits\": 3}\n",
        "    }\n",
        "}\n"
      ],
      "metadata": {
        "id": "B_6GREIEq0EF"
      },
      "execution_count": null,
      "outputs": []
    },
    {
      "cell_type": "markdown",
      "source": [
        "In this example, the student dictionary contains another dictionary under the key \"courses\". Each course (like \"math\", \"history\", etc.) is represented as a dictionary with keys such as \"grade\" and \"credits\".\n",
        "\n",
        "Use case:\n",
        "A nested dictionary is useful for storing and organizing related data in a structured way. For instance, in a school management system, you could use a nested dictionary to store information about students, their courses, and grades, as shown above. This structure allows easy retrieval of detailed information, like fetching the grade for a specific course:\n",
        "\n",
        "python\n",
        "Copy code\n"
      ],
      "metadata": {
        "id": "bvzn2zN3q37u"
      }
    },
    {
      "cell_type": "code",
      "source": [
        "# Accessing the grade of the \"math\" course for the student\n",
        "grade = student[\"courses\"][\"math\"][\"grade\"]\n",
        "print(grade)  # Output: A\n"
      ],
      "metadata": {
        "id": "iiEqBkBkq-C_"
      },
      "execution_count": null,
      "outputs": []
    },
    {
      "cell_type": "markdown",
      "source": [
        "#17. Describe the time complexity of accessing elements in a dictionary?\n",
        "  -->In Python, the time complexity of accessing elements in a **dictionary** (using the key) is **O(1)**, also known as **constant time**. This means that regardless of the size of the dictionary, retrieving a value based on a key will typically take the same amount of time.\n",
        "\n",
        "  Why O(1)?\n",
        "  Dictionaries in Python are implemented as hash tables, where the keys are hashed to compute an index in an internal array. This allows for direct access to the value associated with a given key, bypassing the need to search through the entire collection.\n",
        "\n",
        "  - **Best case**: When there are no hash collisions, the lookup will be  \n",
        "  done in constant time, O(1).\n",
        "  - **Worst case**: In the rare case of a hash collision (when two different keys hash to the same index), the time complexity can degrade to **O(n)**, where `n` is the number of items in the dictionary. However, Python's dictionary implementation uses techniques like open addressing and resizing to keep collisions low and maintain close to O(1) average time complexity.\n",
        "\n",
        "  In practice, dictionary lookups are very efficient and are often considered constant time.\n",
        "\n",
        "#18. In what situations are lists preferred over dictionaries?\n",
        "  --> Lists are preferred over dictionaries when you need to maintain an ordered collection of items, especially if access by index or sequence is important. They are ideal when there is no need for key-value pair relationships, and when you need to store duplicate values. Additionally, lists are more memory-efficient for simple collections without the overhead of key management required by dictionaries.\n",
        "\n",
        "#19. Why are dictionaries considered unordered, and how does that affect data retrieval?\n",
        "  -->Dictionaries in Python are considered unordered because they are implemented using hash tables, where the keys are hashed to specific memory locations, not stored in the order they were added. This means that, prior to Python 3.7, the order of key-value pairs was not guaranteed during iteration. However, this does not affect data retrieval, as dictionary lookups by key are still fast and efficient (O(1) on average) due to the hash-based structure. Starting from Python 3.7, dictionaries preserve insertion order, but the unordered nature still refers to the internal storage and hashing mechanism.\n",
        "\n",
        "#20.Explain the difference between a list and a dictionary in terms of data retrieval?\n",
        "  -->The primary difference between a **list** and a **dictionary** in terms of data retrieval lies in how elements are accessed:\n",
        "\n",
        "  - In a **list**, data is retrieved by **index**. Elements are accessed by their position in the sequence, using an integer index. The order of the elements is preserved, and you can access items using their numeric position (e.g., `my_list[2]`).\n",
        "\n",
        "  - In a **dictionary**, data is retrieved by **key**. Each value is associated with a unique key, and you access values by specifying the key (e.g., `my_dict[\"key_name\"]`). Dictionaries use a hash table for fast lookups, typically offering O(1) time complexity for retrieving values, whereas lists require O(n) time for searching by value (if the index is not known).\n",
        "\n",
        "  Thus, lists are useful when you need ordered data and indexed access, while dictionaries are better suited for situations where quick lookups by unique keys are required."
      ],
      "metadata": {
        "id": "h1bMZ-H7rCdl"
      }
    },
    {
      "cell_type": "markdown",
      "source": [
        "# **PRACTICAL QUESTIONS**"
      ],
      "metadata": {
        "id": "0_j588dcwXsQ"
      }
    },
    {
      "cell_type": "code",
      "source": [
        "#1: #Write a code to create a string with your name and print it.\n",
        "\n",
        "my_name = \"DEEKSHA\"  # Replace with your actual name\n",
        "my_name"
      ],
      "metadata": {
        "id": "VT0FfOR3wVSD",
        "outputId": "8de362db-3677-48e6-f6b4-99941cbadd36",
        "colab": {
          "base_uri": "https://localhost:8080/",
          "height": 35
        }
      },
      "execution_count": null,
      "outputs": [
        {
          "output_type": "execute_result",
          "data": {
            "text/plain": [
              "'DEEKSHA'"
            ],
            "application/vnd.google.colaboratory.intrinsic+json": {
              "type": "string"
            }
          },
          "metadata": {},
          "execution_count": 3
        }
      ]
    },
    {
      "cell_type": "code",
      "source": [
        "\n",
        " #2. Write a code to find the length of the string \"Hello World\".\n",
        " # Define the string\n",
        "my_string = \"Hello World\"\n",
        "\n",
        "# Find the length of the string\n",
        "length = len(my_string)\n",
        "\n",
        "# Print the result\n",
        "print(\"The length of the string is:\", length)\n"
      ],
      "metadata": {
        "id": "5T0TEFAcxgXt",
        "outputId": "b1055ae4-b849-4585-b32f-cffc23d355f5",
        "colab": {
          "base_uri": "https://localhost:8080/"
        }
      },
      "execution_count": null,
      "outputs": [
        {
          "output_type": "stream",
          "name": "stdout",
          "text": [
            "The length of the string is: 11\n"
          ]
        }
      ]
    },
    {
      "cell_type": "code",
      "source": [
        "#3.Write a code to slice the first 3 characters from the string \"Python Programming\"?\n",
        "string = \"Python Programming\"\n",
        "sliced_string = string[:3]\n",
        "print(sliced_string)\n"
      ],
      "metadata": {
        "id": "n_hPQsB81Mzq"
      },
      "execution_count": null,
      "outputs": []
    },
    {
      "cell_type": "code",
      "source": [
        "#4. Write a code to convert the string \"hello\" to uppercase?\n",
        "string = \"hello\"\n",
        "uppercase_string = string.upper()\n",
        "print(uppercase_string)\n"
      ],
      "metadata": {
        "colab": {
          "base_uri": "https://localhost:8080/"
        },
        "id": "OcymIgln18Ju",
        "outputId": "7c2a3692-7f4d-4ca6-ee1d-1c638ce10a84"
      },
      "execution_count": null,
      "outputs": [
        {
          "output_type": "stream",
          "name": "stdout",
          "text": [
            "HELLO\n"
          ]
        }
      ]
    },
    {
      "cell_type": "code",
      "source": [
        "#5. Write a code to replace the word \"apple\" with \"orange\" in the string \"I like apple\"?\n",
        "string = \"I like apple\"\n",
        "new_string = string.replace(\"apple\", \"orange\")\n",
        "print(new_string)\n"
      ],
      "metadata": {
        "id": "27nLn0PH2SyF"
      },
      "execution_count": null,
      "outputs": []
    },
    {
      "cell_type": "code",
      "source": [
        "#6. Write a code to create a list with numbers 1 to 5 and print it?\n",
        "numbers = [1, 2, 3, 4, 5]\n",
        "print(numbers)\n"
      ],
      "metadata": {
        "id": "LPeeWbA62oul"
      },
      "execution_count": null,
      "outputs": []
    },
    {
      "cell_type": "code",
      "source": [
        "#7. Write a code to append the number 10 to the list [1, 2, 3, 4]\n",
        "# Original list\n",
        "my_list = [1, 2, 3, 4]\n",
        "\n",
        "# Append 10 to the list\n",
        "my_list.append(10)\n",
        "\n",
        "# Print the updated list\n",
        "print(my_list)\n"
      ],
      "metadata": {
        "id": "UlqPbDhH266o"
      },
      "execution_count": null,
      "outputs": []
    },
    {
      "cell_type": "code",
      "source": [
        "#8. Write a code to remove the number 3 from the list [1, 2, 3, 4, 5].?\n",
        "# Original list\n",
        "my_list = [1, 2, 3, 4]\n",
        "\n",
        "# Append 10 to the list\n",
        "my_list.append(10)\n",
        "\n",
        "# Print the updated list\n",
        "print(my_list)\n"
      ],
      "metadata": {
        "colab": {
          "base_uri": "https://localhost:8080/"
        },
        "id": "Q9oQGN3L3t9m",
        "outputId": "f26c3eba-331e-4c44-e08b-771879295868"
      },
      "execution_count": null,
      "outputs": [
        {
          "output_type": "stream",
          "name": "stdout",
          "text": [
            "[1, 2, 3, 4, 10]\n"
          ]
        }
      ]
    },
    {
      "cell_type": "code",
      "source": [
        "#9. Write a code to access the second element in the list ['a', 'b', 'c', 'd']?\n",
        "# List\n",
        "my_list = ['a', 'b', 'c', 'd']\n",
        "\n",
        "# Access the second element (index 1)\n",
        "second_element = my_list[1]\n",
        "\n",
        "# Print the second element\n",
        "print(second_element)\n",
        "\n"
      ],
      "metadata": {
        "id": "NJi0kbmM4Hop"
      },
      "execution_count": null,
      "outputs": []
    },
    {
      "cell_type": "code",
      "source": [
        "#10. Write a code to reverse the list [10, 20, 30, 40, 50]\n",
        "# Original list\n",
        "my_list = [10, 20, 30, 40, 50]\n",
        "\n",
        "# Reverse the list\n",
        "my_list.reverse()\n",
        "\n",
        "# Print the reversed list\n",
        "print(my_list)\n",
        "\n"
      ],
      "metadata": {
        "id": "bam7luaY4j9Y"
      },
      "execution_count": null,
      "outputs": []
    },
    {
      "cell_type": "code",
      "source": [
        "#11.  Write a code to create a tuple with the elements 10, 20, 30 and print it\n",
        "# Create a tuple\n",
        "my_tuple = (10, 20, 30)\n",
        "\n",
        "# Print the tuple\n",
        "print(my_tuple)\n"
      ],
      "metadata": {
        "id": "NrzA65LQ43tQ"
      },
      "execution_count": null,
      "outputs": []
    },
    {
      "cell_type": "code",
      "source": [
        "#12.  Write a code to access the first element of the tuple ('apple', 'banana', 'cherry').\n",
        "# Tuple\n",
        "my_tuple = ('apple', 'banana', 'cherry')\n",
        "\n",
        "# Access the first element (index 0)\n",
        "first_element = my_tuple[0]\n",
        "\n",
        "# Print the first element\n",
        "print(first_element)\n"
      ],
      "metadata": {
        "id": "LIcUx7fk5Wt7"
      },
      "execution_count": null,
      "outputs": []
    },
    {
      "cell_type": "code",
      "source": [
        "# 13. Write a code to count how many times the number 2 appears in the tuple (1,2, 3, 2, 4, 2)\n",
        "# Tuple\n",
        "my_tuple = (1, 2, 3, 2, 4, 2)\n",
        "\n",
        "# Count how many times the number 2 appears in the tuple\n",
        "count_of_2 = my_tuple.count(2)\n",
        "\n",
        "# Print the result\n",
        "print(count_of_2)\n"
      ],
      "metadata": {
        "id": "Nrun1tYK5npq"
      },
      "execution_count": null,
      "outputs": []
    },
    {
      "cell_type": "code",
      "source": [
        "#14. Write a code to find the index of the element \"cat\" in the tuple ('dog', 'cat', 'rabbit')\n",
        "# Tuple\n",
        "my_tuple = ('dog', 'cat', 'rabbit')\n",
        "\n",
        "# Find the index of the element 'cat'\n",
        "index_of_cat = my_tuple.index('cat')\n",
        "\n",
        "# Print the index\n",
        "print(index_of_cat)\n"
      ],
      "metadata": {
        "id": "i2mIrSPE6Akt"
      },
      "execution_count": null,
      "outputs": []
    },
    {
      "cell_type": "code",
      "source": [
        "#15.  Write a code to check if the element \"banana\" is in the tuple ('apple', 'orange', 'banana')\n",
        "# Tuple\n",
        "my_tuple = ('apple', 'orange', 'banana')\n",
        "\n",
        "# Check if 'banana' is in the tuple\n",
        "if 'banana' in my_tuple:\n",
        "    print(\"Banana is in the tuple\")\n",
        "else:\n",
        "    print(\"Banana is not in the tuple\")\n"
      ],
      "metadata": {
        "id": "ybPmgUKW6Q4i"
      },
      "execution_count": null,
      "outputs": []
    },
    {
      "cell_type": "code",
      "source": [
        "#16.  Write a code to create a set with the elements 1, 2, 3, 4, 5 and print it\n",
        "# Create a set\n",
        "my_set = {1, 2, 3, 4, 5}\n",
        "\n",
        "# Print the set\n",
        "print(my_set)\n"
      ],
      "metadata": {
        "id": "Zkn2TS3y6d77"
      },
      "execution_count": null,
      "outputs": []
    },
    {
      "cell_type": "code",
      "source": [
        "# 17.  Write a code to add the element 6 to the set {1, 2, 3, 4}\n",
        "# Original set\n",
        "my_set = {1, 2, 3, 4}\n",
        "\n",
        "# Add the element 6 to the set\n",
        "my_set.add(6)\n",
        "\n",
        "# Print the updated set\n",
        "print(my_set)\n",
        "\n",
        "\n"
      ],
      "metadata": {
        "colab": {
          "base_uri": "https://localhost:8080/"
        },
        "id": "De0EpKTk6pi1",
        "outputId": "7d4e36b6-3ea0-4b1e-8d82-c5beb82be96d"
      },
      "execution_count": null,
      "outputs": [
        {
          "output_type": "stream",
          "name": "stdout",
          "text": [
            "{1, 2, 3, 4, 6}\n"
          ]
        }
      ]
    },
    {
      "cell_type": "code",
      "source": [
        "#18.  Write a code to create a tuple with the elements 10, 20, 30 and print it\n",
        "# Create a tuple\n",
        "my_tuple = (10, 20, 30)\n",
        "\n",
        "# Print the tuple\n",
        "print(my_tuple)\n"
      ],
      "metadata": {
        "id": "f6c7dygq7HvJ"
      },
      "execution_count": null,
      "outputs": []
    }
  ]
}